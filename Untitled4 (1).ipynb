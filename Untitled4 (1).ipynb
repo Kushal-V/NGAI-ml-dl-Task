{
  "cells": [
    {
      "cell_type": "code",
      "execution_count": 32,
      "metadata": {
        "id": "3tkrHuGua4xU"
      },
      "outputs": [],
      "source": [
        "import numpy as np\n",
        "import pandas as pd\n",
        "import os\n",
        "import warnings\n",
        "import random\n",
        "from tensorflow.keras.utils import load_img\n",
        "warnings.filterwarnings('ignore')"
      ]
    },
    {
      "cell_type": "code",
      "execution_count": 33,
      "metadata": {
        "id": "6A8cJQVldIPN"
      },
      "outputs": [],
      "source": [
        "input_path = []\n",
        "label = []\n",
        "\n",
        "for categories in os.listdir(\"/content/PetImages\"):\n",
        "  for path in os.listdir(\"/content/PetImages/\"+categories):\n",
        "    if categories == 'Cat':\n",
        "      label.append(0)\n",
        "    else:\n",
        "      label.append(1)\n",
        "    input_path.append(os.path.join(\"/content/PetImages\", categories, path))\n"
      ]
    },
    {
      "cell_type": "code",
      "execution_count": 34,
      "metadata": {
        "colab": {
          "base_uri": "https://localhost:8080/"
        },
        "id": "700JFzHezWSu",
        "outputId": "d4730c19-7410-4f4b-83df-6e617ba24503"
      },
      "outputs": [
        {
          "output_type": "execute_result",
          "data": {
            "text/plain": [
              "<bound method NDFrame.head of                                  Photos label\n",
              "0       /content/PetImages/Cat/9613.jpg     0\n",
              "1       /content/PetImages/Dog/2751.jpg     1\n",
              "2        /content/PetImages/Cat/999.jpg     0\n",
              "3       /content/PetImages/Cat/8387.jpg     0\n",
              "4       /content/PetImages/Cat/3270.jpg     0\n",
              "...                                 ...   ...\n",
              "24997  /content/PetImages/Dog/10632.jpg     1\n",
              "24998   /content/PetImages/Cat/5485.jpg     0\n",
              "24999   /content/PetImages/Cat/7735.jpg     0\n",
              "25000   /content/PetImages/Cat/3810.jpg     0\n",
              "25001    /content/PetImages/Cat/238.jpg     0\n",
              "\n",
              "[25002 rows x 2 columns]>"
            ]
          },
          "metadata": {},
          "execution_count": 34
        }
      ],
      "source": [
        "df = pd.DataFrame()\n",
        "df['Photos'] = input_path\n",
        "df['label'] = label\n",
        "df = df.sample(frac=1).reset_index(drop=True)\n",
        "df['label'] = df['label'].astype('str')\n",
        "df.head"
      ]
    },
    {
      "cell_type": "code",
      "source": [
        "import PIL\n",
        "a = []\n",
        "for image in df['Photos']:\n",
        "  try:\n",
        "    img = PIL.Image.open(image)\n",
        "  except:\n",
        "    a.append(image)\n",
        "\n",
        "a"
      ],
      "metadata": {
        "colab": {
          "base_uri": "https://localhost:8080/"
        },
        "id": "ZpFIrXwcSXOH",
        "outputId": "d513c8b7-3819-4f44-db9b-9eed33f2e66d"
      },
      "execution_count": 45,
      "outputs": [
        {
          "output_type": "execute_result",
          "data": {
            "text/plain": [
              "[]"
            ]
          },
          "metadata": {},
          "execution_count": 45
        }
      ]
    },
    {
      "cell_type": "code",
      "source": [
        "df = df[df['Photos']!= '/content/PetImages/Dog/Thumbs.db']\n",
        "df = df[df['Photos']!= '/content/PetImages/Dog/11702.jpg']\n",
        "df = df[df['Photos']!= '/content/PetImages/Cat/666.jpg']\n",
        "df = df[df['Photos']!= '/content/PetImages/Cat/Thumbs.db']"
      ],
      "metadata": {
        "id": "OZN9RODzSU44"
      },
      "execution_count": 46,
      "outputs": []
    },
    {
      "cell_type": "code",
      "source": [
        "from sklearn.model_selection import train_test_split\n",
        "train, test = train_test_split(df, test_size=0.2, random_state=42)"
      ],
      "metadata": {
        "id": "2Mb4M2rQOlW1"
      },
      "execution_count": 47,
      "outputs": []
    },
    {
      "cell_type": "code",
      "source": [
        "train.head()"
      ],
      "metadata": {
        "colab": {
          "base_uri": "https://localhost:8080/",
          "height": 206
        },
        "id": "rf9cdwasQEU-",
        "outputId": "5a67a126-7d0b-4074-f533-efbe87b97172"
      },
      "execution_count": 48,
      "outputs": [
        {
          "output_type": "execute_result",
          "data": {
            "text/plain": [
              "                                Photos label\n",
              "23290  /content/PetImages/Dog/1375.jpg     1\n",
              "17785  /content/PetImages/Dog/2392.jpg     1\n",
              "1021    /content/PetImages/Cat/683.jpg     0\n",
              "12647   /content/PetImages/Cat/100.jpg     0\n",
              "1534   /content/PetImages/Cat/8130.jpg     0"
            ],
            "text/html": [
              "\n",
              "  <div id=\"df-6ff833d9-200b-418f-bed7-b03afff69f33\" class=\"colab-df-container\">\n",
              "    <div>\n",
              "<style scoped>\n",
              "    .dataframe tbody tr th:only-of-type {\n",
              "        vertical-align: middle;\n",
              "    }\n",
              "\n",
              "    .dataframe tbody tr th {\n",
              "        vertical-align: top;\n",
              "    }\n",
              "\n",
              "    .dataframe thead th {\n",
              "        text-align: right;\n",
              "    }\n",
              "</style>\n",
              "<table border=\"1\" class=\"dataframe\">\n",
              "  <thead>\n",
              "    <tr style=\"text-align: right;\">\n",
              "      <th></th>\n",
              "      <th>Photos</th>\n",
              "      <th>label</th>\n",
              "    </tr>\n",
              "  </thead>\n",
              "  <tbody>\n",
              "    <tr>\n",
              "      <th>23290</th>\n",
              "      <td>/content/PetImages/Dog/1375.jpg</td>\n",
              "      <td>1</td>\n",
              "    </tr>\n",
              "    <tr>\n",
              "      <th>17785</th>\n",
              "      <td>/content/PetImages/Dog/2392.jpg</td>\n",
              "      <td>1</td>\n",
              "    </tr>\n",
              "    <tr>\n",
              "      <th>1021</th>\n",
              "      <td>/content/PetImages/Cat/683.jpg</td>\n",
              "      <td>0</td>\n",
              "    </tr>\n",
              "    <tr>\n",
              "      <th>12647</th>\n",
              "      <td>/content/PetImages/Cat/100.jpg</td>\n",
              "      <td>0</td>\n",
              "    </tr>\n",
              "    <tr>\n",
              "      <th>1534</th>\n",
              "      <td>/content/PetImages/Cat/8130.jpg</td>\n",
              "      <td>0</td>\n",
              "    </tr>\n",
              "  </tbody>\n",
              "</table>\n",
              "</div>\n",
              "    <div class=\"colab-df-buttons\">\n",
              "\n",
              "  <div class=\"colab-df-container\">\n",
              "    <button class=\"colab-df-convert\" onclick=\"convertToInteractive('df-6ff833d9-200b-418f-bed7-b03afff69f33')\"\n",
              "            title=\"Convert this dataframe to an interactive table.\"\n",
              "            style=\"display:none;\">\n",
              "\n",
              "  <svg xmlns=\"http://www.w3.org/2000/svg\" height=\"24px\" viewBox=\"0 -960 960 960\">\n",
              "    <path d=\"M120-120v-720h720v720H120Zm60-500h600v-160H180v160Zm220 220h160v-160H400v160Zm0 220h160v-160H400v160ZM180-400h160v-160H180v160Zm440 0h160v-160H620v160ZM180-180h160v-160H180v160Zm440 0h160v-160H620v160Z\"/>\n",
              "  </svg>\n",
              "    </button>\n",
              "\n",
              "  <style>\n",
              "    .colab-df-container {\n",
              "      display:flex;\n",
              "      gap: 12px;\n",
              "    }\n",
              "\n",
              "    .colab-df-convert {\n",
              "      background-color: #E8F0FE;\n",
              "      border: none;\n",
              "      border-radius: 50%;\n",
              "      cursor: pointer;\n",
              "      display: none;\n",
              "      fill: #1967D2;\n",
              "      height: 32px;\n",
              "      padding: 0 0 0 0;\n",
              "      width: 32px;\n",
              "    }\n",
              "\n",
              "    .colab-df-convert:hover {\n",
              "      background-color: #E2EBFA;\n",
              "      box-shadow: 0px 1px 2px rgba(60, 64, 67, 0.3), 0px 1px 3px 1px rgba(60, 64, 67, 0.15);\n",
              "      fill: #174EA6;\n",
              "    }\n",
              "\n",
              "    .colab-df-buttons div {\n",
              "      margin-bottom: 4px;\n",
              "    }\n",
              "\n",
              "    [theme=dark] .colab-df-convert {\n",
              "      background-color: #3B4455;\n",
              "      fill: #D2E3FC;\n",
              "    }\n",
              "\n",
              "    [theme=dark] .colab-df-convert:hover {\n",
              "      background-color: #434B5C;\n",
              "      box-shadow: 0px 1px 3px 1px rgba(0, 0, 0, 0.15);\n",
              "      filter: drop-shadow(0px 1px 2px rgba(0, 0, 0, 0.3));\n",
              "      fill: #FFFFFF;\n",
              "    }\n",
              "  </style>\n",
              "\n",
              "    <script>\n",
              "      const buttonEl =\n",
              "        document.querySelector('#df-6ff833d9-200b-418f-bed7-b03afff69f33 button.colab-df-convert');\n",
              "      buttonEl.style.display =\n",
              "        google.colab.kernel.accessAllowed ? 'block' : 'none';\n",
              "\n",
              "      async function convertToInteractive(key) {\n",
              "        const element = document.querySelector('#df-6ff833d9-200b-418f-bed7-b03afff69f33');\n",
              "        const dataTable =\n",
              "          await google.colab.kernel.invokeFunction('convertToInteractive',\n",
              "                                                    [key], {});\n",
              "        if (!dataTable) return;\n",
              "\n",
              "        const docLinkHtml = 'Like what you see? Visit the ' +\n",
              "          '<a target=\"_blank\" href=https://colab.research.google.com/notebooks/data_table.ipynb>data table notebook</a>'\n",
              "          + ' to learn more about interactive tables.';\n",
              "        element.innerHTML = '';\n",
              "        dataTable['output_type'] = 'display_data';\n",
              "        await google.colab.output.renderOutput(dataTable, element);\n",
              "        const docLink = document.createElement('div');\n",
              "        docLink.innerHTML = docLinkHtml;\n",
              "        element.appendChild(docLink);\n",
              "      }\n",
              "    </script>\n",
              "  </div>\n",
              "\n",
              "\n",
              "<div id=\"df-31b8c7cf-8543-4662-b2ab-4f3e746f78c5\">\n",
              "  <button class=\"colab-df-quickchart\" onclick=\"quickchart('df-31b8c7cf-8543-4662-b2ab-4f3e746f78c5')\"\n",
              "            title=\"Suggest charts.\"\n",
              "            style=\"display:none;\">\n",
              "\n",
              "<svg xmlns=\"http://www.w3.org/2000/svg\" height=\"24px\"viewBox=\"0 0 24 24\"\n",
              "     width=\"24px\">\n",
              "    <g>\n",
              "        <path d=\"M19 3H5c-1.1 0-2 .9-2 2v14c0 1.1.9 2 2 2h14c1.1 0 2-.9 2-2V5c0-1.1-.9-2-2-2zM9 17H7v-7h2v7zm4 0h-2V7h2v10zm4 0h-2v-4h2v4z\"/>\n",
              "    </g>\n",
              "</svg>\n",
              "  </button>\n",
              "\n",
              "<style>\n",
              "  .colab-df-quickchart {\n",
              "    background-color: #E8F0FE;\n",
              "    border: none;\n",
              "    border-radius: 50%;\n",
              "    cursor: pointer;\n",
              "    display: none;\n",
              "    fill: #1967D2;\n",
              "    height: 32px;\n",
              "    padding: 0 0 0 0;\n",
              "    width: 32px;\n",
              "  }\n",
              "\n",
              "  .colab-df-quickchart:hover {\n",
              "    background-color: #E2EBFA;\n",
              "    box-shadow: 0px 1px 2px rgba(60, 64, 67, 0.3), 0px 1px 3px 1px rgba(60, 64, 67, 0.15);\n",
              "    fill: #174EA6;\n",
              "  }\n",
              "\n",
              "  [theme=dark] .colab-df-quickchart {\n",
              "    background-color: #3B4455;\n",
              "    fill: #D2E3FC;\n",
              "  }\n",
              "\n",
              "  [theme=dark] .colab-df-quickchart:hover {\n",
              "    background-color: #434B5C;\n",
              "    box-shadow: 0px 1px 3px 1px rgba(0, 0, 0, 0.15);\n",
              "    filter: drop-shadow(0px 1px 2px rgba(0, 0, 0, 0.3));\n",
              "    fill: #FFFFFF;\n",
              "  }\n",
              "</style>\n",
              "\n",
              "  <script>\n",
              "    async function quickchart(key) {\n",
              "      const charts = await google.colab.kernel.invokeFunction(\n",
              "          'suggestCharts', [key], {});\n",
              "    }\n",
              "    (() => {\n",
              "      let quickchartButtonEl =\n",
              "        document.querySelector('#df-31b8c7cf-8543-4662-b2ab-4f3e746f78c5 button');\n",
              "      quickchartButtonEl.style.display =\n",
              "        google.colab.kernel.accessAllowed ? 'block' : 'none';\n",
              "    })();\n",
              "  </script>\n",
              "</div>\n",
              "    </div>\n",
              "  </div>\n"
            ]
          },
          "metadata": {},
          "execution_count": 48
        }
      ]
    },
    {
      "cell_type": "code",
      "execution_count": 49,
      "metadata": {
        "colab": {
          "base_uri": "https://localhost:8080/"
        },
        "id": "e7a7nSNm1vnI",
        "outputId": "85008a0d-9d72-4c66-942e-7f2abba627c8"
      },
      "outputs": [
        {
          "output_type": "stream",
          "name": "stdout",
          "text": [
            "Found 19998 validated image filenames belonging to 2 classes.\n",
            "Found 5000 validated image filenames belonging to 2 classes.\n"
          ]
        }
      ],
      "source": [
        "from keras.preprocessing.image import ImageDataGenerator\n",
        "train_generator = ImageDataGenerator(\n",
        "    rescale = 1./255,\n",
        "    rotation_range = 40,\n",
        "    shear_range = 0.2,\n",
        "    zoom_range = 0.2,\n",
        "    horizontal_flip = True,\n",
        "    fill_mode = 'nearest'\n",
        ")\n",
        "\n",
        "val_generator = ImageDataGenerator(rescale = 1./255)\n",
        "\n",
        "train_iterator = train_generator.flow_from_dataframe(\n",
        "    train,\n",
        "    x_col='Photos',\n",
        "    y_col=\"label\",\n",
        "    target_size=(128,128),\n",
        "    batch_size=512,\n",
        "    class_mode='binary'\n",
        "    )\n",
        "\n",
        "val_iterator = val_generator.flow_from_dataframe(\n",
        "    test,\n",
        "    x_col='Photos',\n",
        "    y_col=\"label\",\n",
        "    target_size=(128,128),\n",
        "    batch_size=512,\n",
        "    class_mode='binary'\n",
        "    )"
      ]
    },
    {
      "cell_type": "code",
      "execution_count": 53,
      "metadata": {
        "id": "covrIbW87Qb2"
      },
      "outputs": [],
      "source": [
        "from keras import Sequential\n",
        "from keras.layers.convolutional import Conv2D\n",
        "from keras.layers import MaxPool2D, Flatten, Dense\n",
        "\n",
        "model = Sequential([\n",
        "    Conv2D(16, (3,3), activation='relu', input_shape=(128,128,3)),\n",
        "    MaxPool2D((2,2)),\n",
        "    Conv2D(32, (3,3), activation='relu'),\n",
        "    MaxPool2D((2,2)),\n",
        "    Conv2D(64, (3,3), activation='relu'),\n",
        "    MaxPool2D((2,2)),\n",
        "\n",
        "    Flatten(),\n",
        "    Dense(512, activation='relu'),\n",
        "    Dense(1, activation='sigmoid'),\n",
        "\n",
        "])"
      ]
    },
    {
      "cell_type": "code",
      "execution_count": 54,
      "metadata": {
        "id": "oJdXl-ot_aLV"
      },
      "outputs": [],
      "source": [
        "model.compile(optimizer='adam', loss='binary_crossentropy', metrics=['accuracy'])"
      ]
    },
    {
      "cell_type": "code",
      "source": [
        "history = model.fit(train_iterator, epochs=10, validation_data=val_iterator)"
      ],
      "metadata": {
        "colab": {
          "base_uri": "https://localhost:8080/"
        },
        "id": "ssQEXYQfOPy7",
        "outputId": "1a8c048c-848c-42b7-b008-e706127a0676"
      },
      "execution_count": 55,
      "outputs": [
        {
          "output_type": "stream",
          "name": "stdout",
          "text": [
            "Epoch 1/10\n",
            "40/40 [==============================] - 297s 7s/step - loss: 0.6976 - accuracy: 0.5465 - val_loss: 0.6388 - val_accuracy: 0.6434\n",
            "Epoch 2/10\n",
            "40/40 [==============================] - 295s 7s/step - loss: 0.6170 - accuracy: 0.6626 - val_loss: 0.5733 - val_accuracy: 0.7006\n",
            "Epoch 3/10\n",
            "40/40 [==============================] - 289s 7s/step - loss: 0.5921 - accuracy: 0.6878 - val_loss: 0.5543 - val_accuracy: 0.7104\n",
            "Epoch 4/10\n",
            "40/40 [==============================] - 302s 8s/step - loss: 0.5636 - accuracy: 0.7066 - val_loss: 0.5276 - val_accuracy: 0.7348\n",
            "Epoch 5/10\n",
            "40/40 [==============================] - 294s 7s/step - loss: 0.5382 - accuracy: 0.7289 - val_loss: 0.5344 - val_accuracy: 0.7286\n",
            "Epoch 6/10\n",
            "40/40 [==============================] - 319s 8s/step - loss: 0.5093 - accuracy: 0.7471 - val_loss: 0.4672 - val_accuracy: 0.7668\n",
            "Epoch 7/10\n",
            "40/40 [==============================] - 295s 7s/step - loss: 0.5139 - accuracy: 0.7508 - val_loss: 0.4749 - val_accuracy: 0.7684\n",
            "Epoch 8/10\n",
            "40/40 [==============================] - 302s 7s/step - loss: 0.4937 - accuracy: 0.7600 - val_loss: 0.4605 - val_accuracy: 0.7818\n",
            "Epoch 9/10\n",
            "40/40 [==============================] - 295s 7s/step - loss: 0.4787 - accuracy: 0.7722 - val_loss: 0.4454 - val_accuracy: 0.7846\n",
            "Epoch 10/10\n",
            "40/40 [==============================] - 299s 7s/step - loss: 0.4582 - accuracy: 0.7846 - val_loss: 0.4222 - val_accuracy: 0.8028\n"
          ]
        }
      ]
    },
    {
      "cell_type": "code",
      "source": [
        "model.evaluate(train_iterator)"
      ],
      "metadata": {
        "colab": {
          "base_uri": "https://localhost:8080/"
        },
        "id": "q1p_FgkpTBG4",
        "outputId": "d3a46117-d9eb-4363-e9a6-6312f6026932"
      },
      "execution_count": 56,
      "outputs": [
        {
          "output_type": "stream",
          "name": "stdout",
          "text": [
            "40/40 [==============================] - 134s 3s/step - loss: 0.4426 - accuracy: 0.7918\n"
          ]
        },
        {
          "output_type": "execute_result",
          "data": {
            "text/plain": [
              "[0.4426153898239136, 0.7917791604995728]"
            ]
          },
          "metadata": {},
          "execution_count": 56
        }
      ]
    }
  ],
  "metadata": {
    "colab": {
      "provenance": []
    },
    "kernelspec": {
      "display_name": "Python 3",
      "name": "python3"
    },
    "language_info": {
      "name": "python"
    }
  },
  "nbformat": 4,
  "nbformat_minor": 0
}
